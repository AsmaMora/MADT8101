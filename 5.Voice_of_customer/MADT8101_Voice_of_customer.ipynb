{
 "cells": [
  {
   "cell_type": "code",
   "execution_count": 2,
   "id": "943baac0",
   "metadata": {
    "scrolled": true
   },
   "outputs": [
    {
     "name": "stdout",
     "output_type": "stream",
     "text": [
      "Requirement already satisfied: pythainlp in c:\\users\\mindy\\anaconda3\\lib\\site-packages (4.1.0b3)\n",
      "Collecting pythainlp\n",
      "  Downloading pythainlp-4.1.0b4-py3-none-any.whl (13.8 MB)\n",
      "     --------------------------------------- 13.8/13.8 MB 11.7 MB/s eta 0:00:00\n",
      "Requirement already satisfied: requests>=2.22.0 in c:\\users\\mindy\\anaconda3\\lib\\site-packages (from pythainlp) (2.28.1)\n",
      "Requirement already satisfied: charset-normalizer<3,>=2 in c:\\users\\mindy\\anaconda3\\lib\\site-packages (from requests>=2.22.0->pythainlp) (2.0.4)\n",
      "Requirement already satisfied: certifi>=2017.4.17 in c:\\users\\mindy\\anaconda3\\lib\\site-packages (from requests>=2.22.0->pythainlp) (2022.12.7)\n",
      "Requirement already satisfied: urllib3<1.27,>=1.21.1 in c:\\users\\mindy\\anaconda3\\lib\\site-packages (from requests>=2.22.0->pythainlp) (1.26.14)\n",
      "Requirement already satisfied: idna<4,>=2.5 in c:\\users\\mindy\\anaconda3\\lib\\site-packages (from requests>=2.22.0->pythainlp) (3.4)\n",
      "Installing collected packages: pythainlp\n",
      "  Attempting uninstall: pythainlp\n",
      "    Found existing installation: pythainlp 4.1.0b3\n",
      "    Uninstalling pythainlp-4.1.0b3:\n",
      "      Successfully uninstalled pythainlp-4.1.0b3\n",
      "Successfully installed pythainlp-4.1.0b4\n",
      "Requirement already satisfied: pyLDAvis in c:\\users\\mindy\\anaconda3\\lib\\site-packages (3.4.1)\n",
      "Requirement already satisfied: numexpr in c:\\users\\mindy\\anaconda3\\lib\\site-packages (from pyLDAvis) (2.8.4)\n",
      "Requirement already satisfied: jinja2 in c:\\users\\mindy\\anaconda3\\lib\\site-packages (from pyLDAvis) (3.1.2)\n",
      "Requirement already satisfied: funcy in c:\\users\\mindy\\anaconda3\\lib\\site-packages (from pyLDAvis) (2.0)\n",
      "Requirement already satisfied: gensim in c:\\users\\mindy\\anaconda3\\lib\\site-packages (from pyLDAvis) (4.3.2)\n",
      "Requirement already satisfied: pandas>=2.0.0 in c:\\users\\mindy\\anaconda3\\lib\\site-packages (from pyLDAvis) (2.0.3)\n",
      "Requirement already satisfied: scipy in c:\\users\\mindy\\anaconda3\\lib\\site-packages (from pyLDAvis) (1.10.0)\n",
      "Requirement already satisfied: joblib>=1.2.0 in c:\\users\\mindy\\anaconda3\\lib\\site-packages (from pyLDAvis) (1.3.1)\n",
      "Requirement already satisfied: scikit-learn>=1.0.0 in c:\\users\\mindy\\anaconda3\\lib\\site-packages (from pyLDAvis) (1.2.1)\n",
      "Requirement already satisfied: setuptools in c:\\users\\mindy\\anaconda3\\lib\\site-packages (from pyLDAvis) (65.6.3)\n",
      "Collecting numpy>=1.24.2\n",
      "  Using cached numpy-1.25.2-cp310-cp310-win_amd64.whl (15.6 MB)\n",
      "Requirement already satisfied: tzdata>=2022.1 in c:\\users\\mindy\\anaconda3\\lib\\site-packages (from pandas>=2.0.0->pyLDAvis) (2023.3)\n",
      "Requirement already satisfied: pytz>=2020.1 in c:\\users\\mindy\\anaconda3\\lib\\site-packages (from pandas>=2.0.0->pyLDAvis) (2022.7)\n",
      "Requirement already satisfied: python-dateutil>=2.8.2 in c:\\users\\mindy\\anaconda3\\lib\\site-packages (from pandas>=2.0.0->pyLDAvis) (2.8.2)\n",
      "Requirement already satisfied: threadpoolctl>=2.0.0 in c:\\users\\mindy\\anaconda3\\lib\\site-packages (from scikit-learn>=1.0.0->pyLDAvis) (2.2.0)\n",
      "Requirement already satisfied: smart-open>=1.8.1 in c:\\users\\mindy\\anaconda3\\lib\\site-packages (from gensim->pyLDAvis) (5.2.1)\n",
      "Requirement already satisfied: MarkupSafe>=2.0 in c:\\users\\mindy\\anaconda3\\lib\\site-packages (from jinja2->pyLDAvis) (2.1.1)\n",
      "Requirement already satisfied: six>=1.5 in c:\\users\\mindy\\anaconda3\\lib\\site-packages (from python-dateutil>=2.8.2->pandas>=2.0.0->pyLDAvis) (1.16.0)\n",
      "Installing collected packages: numpy\n",
      "  Attempting uninstall: numpy\n",
      "    Found existing installation: numpy 1.23.5\n",
      "    Uninstalling numpy-1.23.5:\n",
      "      Successfully uninstalled numpy-1.23.5\n"
     ]
    },
    {
     "name": "stderr",
     "output_type": "stream",
     "text": [
      "ERROR: Could not install packages due to an OSError: [WinError 5] Access is denied: 'C:\\\\Users\\\\mindy\\\\anaconda3\\\\Lib\\\\site-packages\\\\~-mpy\\\\.libs\\\\libopenblas.FB5AE2TYXYH2IJRDKGDGQ3XBKLKTF43H.gfortran-win_amd64.dll'\n",
      "Consider using the `--user` option or check the permissions.\n",
      "\n"
     ]
    }
   ],
   "source": [
    "!pip install --upgrade --pre pythainlp\n",
    "!pip install pyLDAvis"
   ]
  },
  {
   "cell_type": "code",
   "execution_count": 3,
   "id": "25678d6e",
   "metadata": {},
   "outputs": [],
   "source": [
    "import pandas as pd\n",
    "import pythainlp\n",
    "import gensim\n",
    "import pyLDAvis.gensim\n",
    "pyLDAvis.enable_notebook()\n",
    "import warnings\n",
    "warnings.filterwarnings(\"ignore\", category=DeprecationWarning)"
   ]
  },
  {
   "cell_type": "code",
   "execution_count": 4,
   "id": "dcf1019b",
   "metadata": {
    "scrolled": true
   },
   "outputs": [],
   "source": [
    "df=pd.read_csv('https://github.com/AsmaMora/MADT8101/raw/main/5.Voice_of_customer/Got_to_grill_review.csv')"
   ]
  },
  {
   "cell_type": "code",
   "execution_count": 5,
   "id": "a443b25b",
   "metadata": {},
   "outputs": [
    {
     "data": {
      "text/html": [
       "<div>\n",
       "<style scoped>\n",
       "    .dataframe tbody tr th:only-of-type {\n",
       "        vertical-align: middle;\n",
       "    }\n",
       "\n",
       "    .dataframe tbody tr th {\n",
       "        vertical-align: top;\n",
       "    }\n",
       "\n",
       "    .dataframe thead th {\n",
       "        text-align: right;\n",
       "    }\n",
       "</style>\n",
       "<table border=\"1\" class=\"dataframe\">\n",
       "  <thead>\n",
       "    <tr style=\"text-align: right;\">\n",
       "      <th></th>\n",
       "      <th>ReviewID</th>\n",
       "      <th>Review</th>\n",
       "    </tr>\n",
       "  </thead>\n",
       "  <tbody>\n",
       "    <tr>\n",
       "      <th>5</th>\n",
       "      <td>6</td>\n",
       "      <td>ร้านน่านั่ง อาหารอร่อย ไม่ต้องรอนาน</td>\n",
       "    </tr>\n",
       "    <tr>\n",
       "      <th>6</th>\n",
       "      <td>7</td>\n",
       "      <td>อาหารญี่ปุ่น ปิ้งย่างฮาลาล ที่สุดใน กรุงเทพ</td>\n",
       "    </tr>\n",
       "    <tr>\n",
       "      <th>7</th>\n",
       "      <td>8</td>\n",
       "      <td>เนื้อนุ่ม พนักงานบริการช้านิดนึง แต่ก็โอเคค่ะ</td>\n",
       "    </tr>\n",
       "    <tr>\n",
       "      <th>8</th>\n",
       "      <td>9</td>\n",
       "      <td>บุฟเฟ่ต์ฮาลาล เนื้อย่างพรีเมียม สายเนื้อต้องไม...</td>\n",
       "    </tr>\n",
       "    <tr>\n",
       "      <th>9</th>\n",
       "      <td>10</td>\n",
       "      <td>เนื้อคือดีมาก</td>\n",
       "    </tr>\n",
       "  </tbody>\n",
       "</table>\n",
       "</div>"
      ],
      "text/plain": [
       "   ReviewID                                             Review\n",
       "5         6                ร้านน่านั่ง อาหารอร่อย ไม่ต้องรอนาน\n",
       "6         7        อาหารญี่ปุ่น ปิ้งย่างฮาลาล ที่สุดใน กรุงเทพ\n",
       "7         8      เนื้อนุ่ม พนักงานบริการช้านิดนึง แต่ก็โอเคค่ะ\n",
       "8         9  บุฟเฟ่ต์ฮาลาล เนื้อย่างพรีเมียม สายเนื้อต้องไม...\n",
       "9        10                                      เนื้อคือดีมาก"
      ]
     },
     "execution_count": 5,
     "metadata": {},
     "output_type": "execute_result"
    }
   ],
   "source": [
    "df.tail()"
   ]
  },
  {
   "cell_type": "code",
   "execution_count": 6,
   "id": "1d640640",
   "metadata": {},
   "outputs": [],
   "source": [
    "#Tokenize Words\n",
    "stopwords = list(pythainlp.corpus.thai_stopwords())\n",
    "removed_words = ['',' ','  ','\\n','ค่ะ','คะ','ร้าน','นะคะ','ๆ','('')','(',')','(' ,')','(' , ')','(', ')','โอเค','\"','\"', 'กก' , 'Got' , 'To' , 'Grill']\n",
    "screening_words = stopwords + removed_words\n",
    "\n",
    "def tokenize_with_space(sentence):\n",
    "    merged = ''\n",
    "    words = pythainlp.word_tokenize(str(sentence), engine='newmm')\n",
    "    for word in words:\n",
    "        if word not in screening_words:\n",
    "            merged = merged + ',' + word\n",
    "    return merged[1:]"
   ]
  },
  {
   "cell_type": "code",
   "execution_count": 7,
   "id": "489aa2d6",
   "metadata": {},
   "outputs": [],
   "source": [
    "df['Review_tokenized'] = df['Review'].apply(lambda x: tokenize_with_space(x))"
   ]
  },
  {
   "cell_type": "code",
   "execution_count": 8,
   "id": "a7136258",
   "metadata": {},
   "outputs": [
    {
     "data": {
      "text/html": [
       "<div>\n",
       "<style scoped>\n",
       "    .dataframe tbody tr th:only-of-type {\n",
       "        vertical-align: middle;\n",
       "    }\n",
       "\n",
       "    .dataframe tbody tr th {\n",
       "        vertical-align: top;\n",
       "    }\n",
       "\n",
       "    .dataframe thead th {\n",
       "        text-align: right;\n",
       "    }\n",
       "</style>\n",
       "<table border=\"1\" class=\"dataframe\">\n",
       "  <thead>\n",
       "    <tr style=\"text-align: right;\">\n",
       "      <th></th>\n",
       "      <th>ReviewID</th>\n",
       "      <th>Review</th>\n",
       "      <th>Review_tokenized</th>\n",
       "    </tr>\n",
       "  </thead>\n",
       "  <tbody>\n",
       "    <tr>\n",
       "      <th>5</th>\n",
       "      <td>6</td>\n",
       "      <td>ร้านน่านั่ง อาหารอร่อย ไม่ต้องรอนาน</td>\n",
       "      <td>นั่ง,อาหาร,อร่อย,ไม่ต้อง,รอ</td>\n",
       "    </tr>\n",
       "    <tr>\n",
       "      <th>6</th>\n",
       "      <td>7</td>\n",
       "      <td>อาหารญี่ปุ่น ปิ้งย่างฮาลาล ที่สุดใน กรุงเทพ</td>\n",
       "      <td>อาหาร,ญี่ปุ่น,ปิ้ง,ย่าง,ฮาลาล,กรุงเทพ</td>\n",
       "    </tr>\n",
       "    <tr>\n",
       "      <th>7</th>\n",
       "      <td>8</td>\n",
       "      <td>เนื้อนุ่ม พนักงานบริการช้านิดนึง แต่ก็โอเคค่ะ</td>\n",
       "      <td>เนื้อ,นุ่ม,พนักงานบริการ,นิดนึง</td>\n",
       "    </tr>\n",
       "    <tr>\n",
       "      <th>8</th>\n",
       "      <td>9</td>\n",
       "      <td>บุฟเฟ่ต์ฮาลาล เนื้อย่างพรีเมียม สายเนื้อต้องไม...</td>\n",
       "      <td>บุฟเฟ่ต์,ฮาลาล,เนื้อ,ย่าง,พรีเมียม,สาย,เนื้อ,พ...</td>\n",
       "    </tr>\n",
       "    <tr>\n",
       "      <th>9</th>\n",
       "      <td>10</td>\n",
       "      <td>เนื้อคือดีมาก</td>\n",
       "      <td>เนื้อ,ดีมาก</td>\n",
       "    </tr>\n",
       "  </tbody>\n",
       "</table>\n",
       "</div>"
      ],
      "text/plain": [
       "   ReviewID                                             Review  \\\n",
       "5         6                ร้านน่านั่ง อาหารอร่อย ไม่ต้องรอนาน   \n",
       "6         7        อาหารญี่ปุ่น ปิ้งย่างฮาลาล ที่สุดใน กรุงเทพ   \n",
       "7         8      เนื้อนุ่ม พนักงานบริการช้านิดนึง แต่ก็โอเคค่ะ   \n",
       "8         9  บุฟเฟ่ต์ฮาลาล เนื้อย่างพรีเมียม สายเนื้อต้องไม...   \n",
       "9        10                                      เนื้อคือดีมาก   \n",
       "\n",
       "                                    Review_tokenized  \n",
       "5                        นั่ง,อาหาร,อร่อย,ไม่ต้อง,รอ  \n",
       "6              อาหาร,ญี่ปุ่น,ปิ้ง,ย่าง,ฮาลาล,กรุงเทพ  \n",
       "7                    เนื้อ,นุ่ม,พนักงานบริการ,นิดนึง  \n",
       "8  บุฟเฟ่ต์,ฮาลาล,เนื้อ,ย่าง,พรีเมียม,สาย,เนื้อ,พ...  \n",
       "9                                        เนื้อ,ดีมาก  "
      ]
     },
     "execution_count": 8,
     "metadata": {},
     "output_type": "execute_result"
    }
   ],
   "source": [
    "df.tail()"
   ]
  },
  {
   "cell_type": "code",
   "execution_count": 9,
   "id": "6456cf80",
   "metadata": {},
   "outputs": [],
   "source": [
    "#Create Dictionary\n",
    "documents = df['Review_tokenized'].to_list()\n",
    "texts = [[text for text in doc.split(',')] for doc in documents]\n",
    "dictionary = gensim.corpora.Dictionary(texts)"
   ]
  },
  {
   "cell_type": "code",
   "execution_count": 10,
   "id": "f4c1f7c8",
   "metadata": {},
   "outputs": [
    {
     "name": "stdout",
     "output_type": "stream",
     "text": [
      "dict_keys(['Garden', 'Loft', 'บุฟเฟต์', 'พรีเมี่ยม', 'ราคา', 'อร่อย', 'ฮาลาล', 'แนว', 'ซี', 'ซูชิ', 'ถ้วม', 'บุ', 'ฟู้ด', 'ฟเฟ่ห์', 'ย่าง', 'เนื้อ', 'ไอศครีม', 'กะปิ', 'กิว', 'คุณภาพดี', 'บุฟเฟ่ต์', 'ม่อน', 'ย่าน', 'รามคำแหง', 'ล', 'วา', 'สาย', 'แซ', '399', 'คุ้ม', 'โปร', 'ซา', 'ซิ', 'ดีมาก', 'สด', 'เมนู', 'เลือก', 'นั่ง', 'รอ', 'อาหาร', 'ไม่ต้อง', 'กรุงเทพ', 'ญี่ปุ่น', 'ปิ้ง', 'นิดนึง', 'นุ่ม', 'พนักงานบริการ', 'to', 'พรีเมียม', 'พลาด'])\n"
     ]
    }
   ],
   "source": [
    "print(dictionary.token2id.keys())"
   ]
  },
  {
   "cell_type": "code",
   "execution_count": 11,
   "id": "3a792826",
   "metadata": {},
   "outputs": [],
   "source": [
    "gensim_corpus = [dictionary.doc2bow(text, allow_update=True) for text in texts]\n",
    "word_frequencies = [[(dictionary[id], frequence) for id, frequence in couple] for couple in gensim_corpus]"
   ]
  },
  {
   "cell_type": "code",
   "execution_count": 12,
   "id": "73e1024d",
   "metadata": {
    "scrolled": true
   },
   "outputs": [
    {
     "name": "stdout",
     "output_type": "stream",
     "text": [
      "CPU times: total: 62.5 ms\n",
      "Wall time: 113 ms\n"
     ]
    }
   ],
   "source": [
    "#Topic Modeling\n",
    "num_topics = 4\n",
    "chunksize = 4000 # size of the doc looked at every pass\n",
    "passes = 20 # number of passes through documents\n",
    "iterations = 50\n",
    "eval_every =1 # Don't evaluate model perplexity, takes too much time\n",
    "\n",
    "#make a index to word dictionary\n",
    "temp = dictionary[0] #This is only to load the dictionary\n",
    "id2word = dictionary.id2token\n",
    "\n",
    "%time model = gensim.models.LdaModel(corpus=gensim_corpus, id2word=id2word, chunksize=chunksize, \\\n",
    "                                    alpha='auto', eta='auto', \\\n",
    "                                    iterations=iterations, num_topics=num_topics, \\\n",
    "                                    passes=passes, eval_every=eval_every)"
   ]
  },
  {
   "cell_type": "code",
   "execution_count": 13,
   "id": "3d831f53",
   "metadata": {
    "scrolled": false
   },
   "outputs": [
    {
     "data": {
      "text/html": [
       "\n",
       "<link rel=\"stylesheet\" type=\"text/css\" href=\"https://cdn.jsdelivr.net/gh/bmabey/pyLDAvis@3.4.0/pyLDAvis/js/ldavis.v1.0.0.css\">\n",
       "\n",
       "\n",
       "<div id=\"ldavis_el631231111738075047496678677\" style=\"background-color:white;\"></div>\n",
       "<script type=\"text/javascript\">\n",
       "\n",
       "var ldavis_el631231111738075047496678677_data = {\"mdsDat\": {\"x\": [0.120871556012021, -0.0925785443586376, -0.033600172397272955, 0.005307160743889636], \"y\": [-0.018557362054415258, -0.06024282607781081, 0.09644303223741954, -0.017642844105193543], \"topics\": [1, 2, 3, 4], \"cluster\": [1, 1, 1, 1], \"Freq\": [43.346308818573334, 34.722204761770044, 15.968236456962382, 5.963249962694242]}, \"tinfo\": {\"Term\": [\"\\u0e40\\u0e19\\u0e37\\u0e49\\u0e2d\", \"\\u0e2d\\u0e32\\u0e2b\\u0e32\\u0e23\", \"\\u0e1e\\u0e19\\u0e31\\u0e01\\u0e07\\u0e32\\u0e19\\u0e1a\\u0e23\\u0e34\\u0e01\\u0e32\\u0e23\", \"\\u0e19\\u0e34\\u0e14\\u0e19\\u0e36\\u0e07\", \"\\u0e19\\u0e38\\u0e48\\u0e21\", \"\\u0e2d\\u0e23\\u0e48\\u0e2d\\u0e22\", \"\\u0e0d\\u0e35\\u0e48\\u0e1b\\u0e38\\u0e48\\u0e19\", \"\\u0e1b\\u0e34\\u0e49\\u0e07\", \"\\u0e01\\u0e23\\u0e38\\u0e07\\u0e40\\u0e17\\u0e1e\", \"\\u0e44\\u0e21\\u0e48\\u0e15\\u0e49\\u0e2d\\u0e07\", \"\\u0e23\\u0e2d\", \"\\u0e19\\u0e31\\u0e48\\u0e07\", \"\\u0e22\\u0e48\\u0e32\\u0e07\", \"\\u0e1f\\u0e39\\u0e49\\u0e14\", \"\\u0e0b\\u0e35\", \"\\u0e14\\u0e35\\u0e21\\u0e32\\u0e01\", \"\\u0e23\\u0e32\\u0e04\\u0e32\", \"\\u0e41\\u0e19\\u0e27\", \"\\u0e1a\\u0e38\\u0e1f\\u0e40\\u0e1f\\u0e15\\u0e4c\", \"Garden\", \"Loft\", \"\\u0e1e\\u0e23\\u0e35\\u0e40\\u0e21\\u0e35\\u0e48\\u0e22\\u0e21\", \"\\u0e04\\u0e38\\u0e49\\u0e21\", \"\\u0e04\\u0e38\\u0e13\\u0e20\\u0e32\\u0e1e\\u0e14\\u0e35\", \"\\u0e27\\u0e32\", \"\\u0e25\", \"\\u0e21\\u0e48\\u0e2d\\u0e19\", \"\\u0e22\\u0e48\\u0e32\\u0e19\", \"\\u0e23\\u0e32\\u0e21\\u0e04\\u0e33\\u0e41\\u0e2b\\u0e07\", \"\\u0e01\\u0e30\\u0e1b\\u0e34\", \"\\u0e1f\\u0e39\\u0e49\\u0e14\", \"\\u0e0b\\u0e35\", \"\\u0e14\\u0e35\\u0e21\\u0e32\\u0e01\", \"\\u0e40\\u0e19\\u0e37\\u0e49\\u0e2d\", \"\\u0e40\\u0e25\\u0e37\\u0e2d\\u0e01\", \"\\u0e40\\u0e21\\u0e19\\u0e39\", \"\\u0e2a\\u0e14\", \"\\u0e44\\u0e2d\\u0e28\\u0e04\\u0e23\\u0e35\\u0e21\", \"\\u0e0b\\u0e32\", \"\\u0e16\\u0e49\\u0e27\\u0e21\", \"\\u0e0b\\u0e39\\u0e0a\\u0e34\", \"\\u0e1f\\u0e40\\u0e1f\\u0e48\\u0e2b\\u0e4c\", \"\\u0e0b\\u0e34\", \"\\u0e1a\\u0e38\", \"\\u0e1e\\u0e25\\u0e32\\u0e14\", \"\\u0e1e\\u0e23\\u0e35\\u0e40\\u0e21\\u0e35\\u0e22\\u0e21\", \"to\", \"\\u0e22\\u0e48\\u0e32\\u0e07\", \"\\u0e2e\\u0e32\\u0e25\\u0e32\\u0e25\", \"\\u0e2a\\u0e32\\u0e22\", \"\\u0e1a\\u0e38\\u0e1f\\u0e40\\u0e1f\\u0e48\\u0e15\\u0e4c\", \"\\u0e19\\u0e34\\u0e14\\u0e19\\u0e36\\u0e07\", \"\\u0e1e\\u0e19\\u0e31\\u0e01\\u0e07\\u0e32\\u0e19\\u0e1a\\u0e23\\u0e34\\u0e01\\u0e32\\u0e23\", \"\\u0e19\\u0e38\\u0e48\\u0e21\", \"\\u0e19\\u0e31\\u0e48\\u0e07\", \"\\u0e23\\u0e2d\", \"\\u0e44\\u0e21\\u0e48\\u0e15\\u0e49\\u0e2d\\u0e07\", \"\\u0e1b\\u0e34\\u0e49\\u0e07\", \"\\u0e01\\u0e23\\u0e38\\u0e07\\u0e40\\u0e17\\u0e1e\", \"\\u0e0d\\u0e35\\u0e48\\u0e1b\\u0e38\\u0e48\\u0e19\", \"399\", \"\\u0e42\\u0e1b\\u0e23\", \"\\u0e2d\\u0e23\\u0e48\\u0e2d\\u0e22\", \"\\u0e2d\\u0e32\\u0e2b\\u0e32\\u0e23\", \"\\u0e04\\u0e38\\u0e49\\u0e21\", \"\\u0e22\\u0e48\\u0e32\\u0e19\", \"\\u0e01\\u0e34\\u0e27\", \"\\u0e23\\u0e32\\u0e21\\u0e04\\u0e33\\u0e41\\u0e2b\\u0e07\", \"\\u0e01\\u0e30\\u0e1b\\u0e34\", \"\\u0e04\\u0e38\\u0e13\\u0e20\\u0e32\\u0e1e\\u0e14\\u0e35\", \"\\u0e25\", \"\\u0e41\\u0e0b\", \"\\u0e27\\u0e32\", \"\\u0e21\\u0e48\\u0e2d\\u0e19\", \"Loft\", \"\\u0e1a\\u0e38\\u0e1f\\u0e40\\u0e1f\\u0e15\\u0e4c\", \"\\u0e1e\\u0e23\\u0e35\\u0e40\\u0e21\\u0e35\\u0e48\\u0e22\\u0e21\", \"\\u0e41\\u0e19\\u0e27\", \"\\u0e23\\u0e32\\u0e04\\u0e32\", \"Garden\", \"\\u0e04\\u0e38\\u0e49\\u0e21\", \"\\u0e42\\u0e1b\\u0e23\", \"399\", \"\\u0e2d\\u0e23\\u0e48\\u0e2d\\u0e22\", \"\\u0e1a\\u0e38\\u0e1f\\u0e40\\u0e1f\\u0e48\\u0e15\\u0e4c\", \"\\u0e2a\\u0e32\\u0e22\", \"\\u0e2e\\u0e32\\u0e25\\u0e32\\u0e25\", \"\\u0e19\\u0e38\\u0e48\\u0e21\", \"\\u0e1e\\u0e19\\u0e31\\u0e01\\u0e07\\u0e32\\u0e19\\u0e1a\\u0e23\\u0e34\\u0e01\\u0e32\\u0e23\", \"\\u0e19\\u0e34\\u0e14\\u0e19\\u0e36\\u0e07\", \"\\u0e19\\u0e31\\u0e48\\u0e07\", \"\\u0e23\\u0e2d\", \"\\u0e44\\u0e21\\u0e48\\u0e15\\u0e49\\u0e2d\\u0e07\", \"\\u0e01\\u0e23\\u0e38\\u0e07\\u0e40\\u0e17\\u0e1e\", \"\\u0e0d\\u0e35\\u0e48\\u0e1b\\u0e38\\u0e48\\u0e19\", \"\\u0e40\\u0e19\\u0e37\\u0e49\\u0e2d\", \"\\u0e22\\u0e48\\u0e32\\u0e07\", \"to\", \"\\u0e1e\\u0e23\\u0e35\\u0e40\\u0e21\\u0e35\\u0e22\\u0e21\", \"\\u0e1e\\u0e25\\u0e32\\u0e14\", \"\\u0e14\\u0e35\\u0e21\\u0e32\\u0e01\", \"\\u0e2d\\u0e32\\u0e2b\\u0e32\\u0e23\", \"\\u0e0d\\u0e35\\u0e48\\u0e1b\\u0e38\\u0e48\\u0e19\", \"\\u0e1b\\u0e34\\u0e49\\u0e07\", \"\\u0e01\\u0e23\\u0e38\\u0e07\\u0e40\\u0e17\\u0e1e\", \"\\u0e23\\u0e2d\", \"\\u0e44\\u0e21\\u0e48\\u0e15\\u0e49\\u0e2d\\u0e07\", \"\\u0e19\\u0e31\\u0e48\\u0e07\", \"\\u0e2d\\u0e23\\u0e48\\u0e2d\\u0e22\", \"\\u0e22\\u0e48\\u0e32\\u0e07\", \"\\u0e2e\\u0e32\\u0e25\\u0e32\\u0e25\", \"\\u0e1e\\u0e19\\u0e31\\u0e01\\u0e07\\u0e32\\u0e19\\u0e1a\\u0e23\\u0e34\\u0e01\\u0e32\\u0e23\", \"\\u0e19\\u0e38\\u0e48\\u0e21\", \"\\u0e19\\u0e34\\u0e14\\u0e19\\u0e36\\u0e07\", \"399\", \"\\u0e42\\u0e1b\\u0e23\", \"\\u0e04\\u0e38\\u0e49\\u0e21\", \"Garden\", \"\\u0e1e\\u0e23\\u0e35\\u0e40\\u0e21\\u0e35\\u0e48\\u0e22\\u0e21\", \"\\u0e23\\u0e32\\u0e04\\u0e32\", \"\\u0e41\\u0e19\\u0e27\", \"\\u0e1a\\u0e38\\u0e1f\\u0e40\\u0e1f\\u0e15\\u0e4c\", \"\\u0e21\\u0e48\\u0e2d\\u0e19\", \"Loft\", \"\\u0e27\\u0e32\", \"\\u0e04\\u0e38\\u0e13\\u0e20\\u0e32\\u0e1e\\u0e14\\u0e35\", \"\\u0e23\\u0e32\\u0e21\\u0e04\\u0e33\\u0e41\\u0e2b\\u0e07\", \"\\u0e25\", \"\\u0e41\\u0e0b\", \"\\u0e01\\u0e30\\u0e1b\\u0e34\", \"\\u0e01\\u0e34\\u0e27\", \"\\u0e40\\u0e19\\u0e37\\u0e49\\u0e2d\", \"\\u0e14\\u0e35\\u0e21\\u0e32\\u0e01\", \"\\u0e0b\\u0e34\", \"\\u0e1f\\u0e39\\u0e49\\u0e14\", \"\\u0e0b\\u0e35\", \"\\u0e2a\\u0e32\\u0e22\", \"\\u0e1a\\u0e38\", \"\\u0e1a\\u0e38\\u0e1f\\u0e40\\u0e1f\\u0e48\\u0e15\\u0e4c\", \"\\u0e1e\\u0e25\\u0e32\\u0e14\", \"\\u0e19\\u0e38\\u0e48\\u0e21\", \"\\u0e1e\\u0e19\\u0e31\\u0e01\\u0e07\\u0e32\\u0e19\\u0e1a\\u0e23\\u0e34\\u0e01\\u0e32\\u0e23\", \"\\u0e19\\u0e34\\u0e14\\u0e19\\u0e36\\u0e07\", \"\\u0e44\\u0e21\\u0e48\\u0e15\\u0e49\\u0e2d\\u0e07\", \"\\u0e19\\u0e31\\u0e48\\u0e07\", \"\\u0e23\\u0e2d\", \"\\u0e01\\u0e23\\u0e38\\u0e07\\u0e40\\u0e17\\u0e1e\", \"\\u0e0d\\u0e35\\u0e48\\u0e1b\\u0e38\\u0e48\\u0e19\", \"\\u0e1b\\u0e34\\u0e49\\u0e07\", \"\\u0e40\\u0e19\\u0e37\\u0e49\\u0e2d\", \"\\u0e23\\u0e32\\u0e04\\u0e32\", \"Garden\", \"\\u0e41\\u0e19\\u0e27\", \"\\u0e1a\\u0e38\\u0e1f\\u0e40\\u0e1f\\u0e15\\u0e4c\", \"\\u0e04\\u0e38\\u0e49\\u0e21\", \"\\u0e1e\\u0e23\\u0e35\\u0e40\\u0e21\\u0e35\\u0e48\\u0e22\\u0e21\", \"Loft\", \"399\", \"\\u0e42\\u0e1b\\u0e23\", \"\\u0e21\\u0e48\\u0e2d\\u0e19\", \"\\u0e27\\u0e32\", \"\\u0e04\\u0e38\\u0e13\\u0e20\\u0e32\\u0e1e\\u0e14\\u0e35\", \"\\u0e25\", \"\\u0e01\\u0e30\\u0e1b\\u0e34\", \"\\u0e41\\u0e0b\", \"\\u0e23\\u0e32\\u0e21\\u0e04\\u0e33\\u0e41\\u0e2b\\u0e07\", \"\\u0e22\\u0e48\\u0e32\\u0e19\", \"\\u0e01\\u0e34\\u0e27\", \"\\u0e1e\\u0e23\\u0e35\\u0e40\\u0e21\\u0e35\\u0e22\\u0e21\", \"to\", \"\\u0e1e\\u0e25\\u0e32\\u0e14\", \"\\u0e1a\\u0e38\", \"\\u0e0b\\u0e34\", \"\\u0e2e\\u0e32\\u0e25\\u0e32\\u0e25\", \"\\u0e2d\\u0e23\\u0e48\\u0e2d\\u0e22\", \"\\u0e14\\u0e35\\u0e21\\u0e32\\u0e01\", \"\\u0e2d\\u0e32\\u0e2b\\u0e32\\u0e23\", \"\\u0e22\\u0e48\\u0e32\\u0e07\", \"\\u0e2a\\u0e32\\u0e22\", \"\\u0e1a\\u0e38\\u0e1f\\u0e40\\u0e1f\\u0e48\\u0e15\\u0e4c\", \"\\u0e0b\\u0e35\", \"\\u0e1f\\u0e39\\u0e49\\u0e14\"], \"Freq\": [4.0, 1.0, 0.0, 0.0, 0.0, 2.0, 0.0, 0.0, 0.0, 0.0, 0.0, 0.0, 2.0, 1.0, 1.0, 1.0, 1.0, 1.0, 1.0, 1.0, 1.0, 1.0, 1.0, 1.0, 1.0, 1.0, 1.0, 1.0, 1.0, 1.0, 1.5834676199170208, 1.5834670628193706, 1.583457703578849, 3.6945628699085384, 0.8797023143953279, 0.8797022586855628, 0.8797019801367378, 0.8797019244269728, 0.8797017572976777, 0.8797017572976777, 0.8797017572976777, 0.8797010887804977, 0.8797004202633176, 0.8797001417144925, 0.8796003098155971, 0.8795969672296966, 0.8795785272974788, 1.5833555318698234, 1.5833535263182832, 0.8795918976410808, 0.8795565776500653, 0.17594439041749868, 0.17594369404543608, 0.17594333193196351, 0.1759437776100836, 0.17594341549661102, 0.17594331800452226, 0.17594283054407844, 0.17594277483431342, 0.17594273305198968, 0.1759442372156449, 0.1759441536509974, 0.17594407008634988, 0.17594398652170237, 0.17594383331984859, 0.8204540139528486, 0.8204540139528486, 0.8204539247011489, 0.8204538354494492, 0.8204538354494492, 0.8204538354494492, 0.8204538354494492, 0.8204533891909509, 0.8204527644290533, 0.8204514256535586, 0.82045106864676, 0.8204508901433607, 0.8204506223882617, 0.8204501761297635, 0.8204500868780638, 0.8204488373542687, 0.8204489266059684, 0.8204484803474701, 1.476824757958578, 0.8205906583050164, 0.8205572781693464, 0.8205793233391605, 0.16409379049121556, 0.16409351157965416, 0.1640930653211559, 0.16409384627352785, 0.16409327729394257, 0.1640930653211559, 0.16409296491299377, 0.1640924963415706, 0.8206936547664153, 0.16421479348301934, 0.1642075194694977, 0.1641900261363658, 0.16418703620442746, 0.16409672464084163, 1.0549204870713047, 0.5860666909884923, 0.586066649942935, 0.5860661163506905, 0.5860653364851023, 0.5860650081206441, 0.5860643513917276, 0.5860622170227494, 0.586056306462502, 0.5860551982324556, 0.1172153268549484, 0.11721530633216976, 0.11721534737772703, 0.11721565521940659, 0.11721544999162022, 0.11721528580939113, 0.11721469064881064, 0.11721467012603201, 0.11721459829630677, 0.1172146085576961, 0.11721457777352814, 0.1172146085576961, 0.1172144956824136, 0.11721448542102428, 0.11721436228435245, 0.11721436228435245, 0.11721436228435245, 0.11721434176157382, 0.11721432123879517, 0.11721432123879517, 0.11721963663846219, 0.11721694815446072, 0.11721501901326883, 0.11721497796771156, 0.11721494718354361, 0.11721491639937566, 0.11721471117158928, 0.11721471117158928, 0.11721464960325337, 0.31171285738967835, 0.31171285738967835, 0.3117127654202545, 0.06234382302851229, 0.06234373489114774, 0.06234354712024066, 0.062343474311113416, 0.06234338617374886, 0.06234337084551155, 0.31169575107683695, 0.06234430586798765, 0.062344252219157056, 0.062344233058860415, 0.06234410660090258, 0.0623440682803093, 0.06234400313530072, 0.06234398014294475, 0.06234385368498692, 0.06234384602086826, 0.062343451318757445, 0.0623433631813929, 0.06234331719668096, 0.06234330186844365, 0.06234328654020633, 0.06234328654020633, 0.06234327121196902, 0.06234326737990969, 0.062343252051672376, 0.062343481975232075, 0.06234332486079961, 0.06234337084551155, 0.062343497303469386, 0.06234348963935073, 0.06234475805098839, 0.062344738890691746, 0.062344528127428696, 0.06234388817352087, 0.06234386901322423, 0.06234364292172386, 0.06234357777671528, 0.06234356244847797, 0.06234354712024066], \"Total\": [4.0, 1.0, 0.0, 0.0, 0.0, 2.0, 0.0, 0.0, 0.0, 0.0, 0.0, 0.0, 2.0, 1.0, 1.0, 1.0, 1.0, 1.0, 1.0, 1.0, 1.0, 1.0, 1.0, 1.0, 1.0, 1.0, 1.0, 1.0, 1.0, 1.0, 1.9271192437955165, 1.927119028248734, 1.92711590450158, 4.944171912390253, 1.2233524720285776, 1.2233524453610387, 1.2233522836436286, 1.2233524837410752, 1.2233522657047189, 1.223352356634571, 1.2233523808255908, 1.2233521884041798, 1.2233518380466186, 1.2233518840821302, 1.2233453664687894, 1.223344971023708, 1.223343969924083, 2.395970500828569, 3.052332805940888, 1.8797077351315268, 1.8797055249033863, 0.7689655685366361, 0.768965389869717, 0.7689652861450271, 0.9884457101664869, 0.9884455763958966, 0.9884452144748346, 0.9884453476740956, 0.9884453304091111, 0.9884453065558015, 1.1759522264675086, 1.1759523762694541, 2.301175783958369, 1.4573016836863202, 1.1759520247638178, 1.1759538525659177, 1.175953888544627, 1.1759538177164572, 1.175953772384644, 1.1759538162317933, 1.1759538426858798, 1.1759539182543939, 1.175953650514209, 1.1759534320105254, 1.1759525648937004, 1.1759523328713264, 1.1759524775134194, 1.175952210984249, 1.1759520222576663, 1.1759520134919637, 1.1759520247638178, 1.1759523762694541, 1.1759522264675086, 2.301175783958369, 1.8797055249033863, 1.8797077351315268, 3.052332805940888, 0.7689652861450271, 0.768965389869717, 0.7689655685366361, 0.9884457101664869, 0.9884455763958966, 0.9884452144748346, 0.9884453304091111, 0.9884453065558015, 4.944171912390253, 2.395970500828569, 1.223343969924083, 1.223344971023708, 1.2233453664687894, 1.92711590450158, 1.4573016836863202, 0.9884453065558015, 0.9884453476740956, 0.9884453304091111, 0.9884455763958966, 0.9884452144748346, 0.9884457101664869, 2.301175783958369, 2.395970500828569, 3.052332805940888, 0.768965389869717, 0.7689652861450271, 0.7689655685366361, 1.1759522264675086, 1.1759523762694541, 1.1759520247638178, 1.1759520134919637, 1.1759524775134194, 1.1759520222576663, 1.175952210984249, 1.1759523328713264, 1.1759534320105254, 1.1759525648937004, 1.175953650514209, 1.1759538162317933, 1.1759538177164572, 1.1759538426858798, 1.1759539182543939, 1.175953772384644, 1.175953888544627, 4.944171912390253, 1.92711590450158, 1.2233518380466186, 1.9271192437955165, 1.927119028248734, 1.8797077351315268, 1.2233518840821302, 1.8797055249033863, 1.2233453664687894, 0.7689652861450271, 0.768965389869717, 0.7689655685366361, 0.9884452144748346, 0.9884457101664869, 0.9884455763958966, 0.9884453304091111, 0.9884453065558015, 0.9884453476740956, 4.944171912390253, 1.1759520222576663, 1.1759520134919637, 1.175952210984249, 1.1759523328713264, 1.1759520247638178, 1.1759524775134194, 1.1759525648937004, 1.1759522264675086, 1.1759523762694541, 1.1759534320105254, 1.175953650514209, 1.1759538162317933, 1.1759538426858798, 1.175953772384644, 1.1759539182543939, 1.1759538177164572, 1.1759538525659177, 1.175953888544627, 1.223344971023708, 1.223343969924083, 1.2233453664687894, 1.2233518840821302, 1.2233518380466186, 3.052332805940888, 2.301175783958369, 1.92711590450158, 1.4573016836863202, 2.395970500828569, 1.8797077351315268, 1.8797055249033863, 1.927119028248734, 1.9271192437955165], \"Category\": [\"Default\", \"Default\", \"Default\", \"Default\", \"Default\", \"Default\", \"Default\", \"Default\", \"Default\", \"Default\", \"Default\", \"Default\", \"Default\", \"Default\", \"Default\", \"Default\", \"Default\", \"Default\", \"Default\", \"Default\", \"Default\", \"Default\", \"Default\", \"Default\", \"Default\", \"Default\", \"Default\", \"Default\", \"Default\", \"Default\", \"Topic1\", \"Topic1\", \"Topic1\", \"Topic1\", \"Topic1\", \"Topic1\", \"Topic1\", \"Topic1\", \"Topic1\", \"Topic1\", \"Topic1\", \"Topic1\", \"Topic1\", \"Topic1\", \"Topic1\", \"Topic1\", \"Topic1\", \"Topic1\", \"Topic1\", \"Topic1\", \"Topic1\", \"Topic1\", \"Topic1\", \"Topic1\", \"Topic1\", \"Topic1\", \"Topic1\", \"Topic1\", \"Topic1\", \"Topic1\", \"Topic1\", \"Topic1\", \"Topic1\", \"Topic1\", \"Topic1\", \"Topic2\", \"Topic2\", \"Topic2\", \"Topic2\", \"Topic2\", \"Topic2\", \"Topic2\", \"Topic2\", \"Topic2\", \"Topic2\", \"Topic2\", \"Topic2\", \"Topic2\", \"Topic2\", \"Topic2\", \"Topic2\", \"Topic2\", \"Topic2\", \"Topic2\", \"Topic2\", \"Topic2\", \"Topic2\", \"Topic2\", \"Topic2\", \"Topic2\", \"Topic2\", \"Topic2\", \"Topic2\", \"Topic2\", \"Topic2\", \"Topic2\", \"Topic2\", \"Topic2\", \"Topic2\", \"Topic2\", \"Topic2\", \"Topic3\", \"Topic3\", \"Topic3\", \"Topic3\", \"Topic3\", \"Topic3\", \"Topic3\", \"Topic3\", \"Topic3\", \"Topic3\", \"Topic3\", \"Topic3\", \"Topic3\", \"Topic3\", \"Topic3\", \"Topic3\", \"Topic3\", \"Topic3\", \"Topic3\", \"Topic3\", \"Topic3\", \"Topic3\", \"Topic3\", \"Topic3\", \"Topic3\", \"Topic3\", \"Topic3\", \"Topic3\", \"Topic3\", \"Topic3\", \"Topic3\", \"Topic3\", \"Topic3\", \"Topic3\", \"Topic3\", \"Topic3\", \"Topic3\", \"Topic3\", \"Topic3\", \"Topic4\", \"Topic4\", \"Topic4\", \"Topic4\", \"Topic4\", \"Topic4\", \"Topic4\", \"Topic4\", \"Topic4\", \"Topic4\", \"Topic4\", \"Topic4\", \"Topic4\", \"Topic4\", \"Topic4\", \"Topic4\", \"Topic4\", \"Topic4\", \"Topic4\", \"Topic4\", \"Topic4\", \"Topic4\", \"Topic4\", \"Topic4\", \"Topic4\", \"Topic4\", \"Topic4\", \"Topic4\", \"Topic4\", \"Topic4\", \"Topic4\", \"Topic4\", \"Topic4\", \"Topic4\", \"Topic4\", \"Topic4\", \"Topic4\", \"Topic4\", \"Topic4\", \"Topic4\", \"Topic4\", \"Topic4\"], \"logprob\": [30.0, 29.0, 28.0, 27.0, 26.0, 25.0, 24.0, 23.0, 22.0, 21.0, 20.0, 19.0, 18.0, 17.0, 16.0, 15.0, 14.0, 13.0, 12.0, 11.0, 10.0, 9.0, 8.0, 7.0, 6.0, 5.0, 4.0, 3.0, 2.0, 1.0, -2.9385, -2.9385, -2.9385, -2.0913, -3.5263, -3.5263, -3.5263, -3.5263, -3.5263, -3.5263, -3.5263, -3.5263, -3.5263, -3.5263, -3.5264, -3.5264, -3.5265, -2.9386, -2.9386, -3.5265, -3.5265, -5.1357, -5.1357, -5.1358, -5.1357, -5.1358, -5.1358, -5.1358, -5.1358, -5.1358, -5.1357, -5.1357, -5.1357, -5.1357, -5.1357, -3.3742, -3.3742, -3.3742, -3.3742, -3.3742, -3.3742, -3.3742, -3.3742, -3.3742, -3.3742, -3.3742, -3.3742, -3.3742, -3.3742, -3.3742, -3.3742, -3.3742, -3.3742, -2.7864, -3.374, -3.3741, -3.3741, -4.9836, -4.9836, -4.9836, -4.9836, -4.9836, -4.9836, -4.9836, -4.9836, -3.3739, -4.9829, -4.9829, -4.983, -4.9831, -4.9836, -2.3461, -2.9339, -2.9339, -2.9339, -2.9339, -2.9339, -2.9339, -2.9339, -2.9339, -2.9339, -4.5433, -4.5433, -4.5433, -4.5433, -4.5433, -4.5433, -4.5433, -4.5433, -4.5433, -4.5433, -4.5433, -4.5433, -4.5433, -4.5433, -4.5433, -4.5433, -4.5433, -4.5433, -4.5433, -4.5433, -4.5432, -4.5433, -4.5433, -4.5433, -4.5433, -4.5433, -4.5433, -4.5433, -4.5433, -2.5802, -2.5802, -2.5802, -4.1896, -4.1896, -4.1896, -4.1896, -4.1896, -4.1896, -2.5803, -4.1896, -4.1896, -4.1896, -4.1896, -4.1896, -4.1896, -4.1896, -4.1896, -4.1896, -4.1896, -4.1896, -4.1897, -4.1897, -4.1897, -4.1897, -4.1897, -4.1897, -4.1897, -4.1896, -4.1897, -4.1896, -4.1896, -4.1896, -4.1896, -4.1896, -4.1896, -4.1896, -4.1896, -4.1896, -4.1896, -4.1896, -4.1896], \"loglift\": [30.0, 29.0, 28.0, 27.0, 26.0, 25.0, 24.0, 23.0, 22.0, 21.0, 20.0, 19.0, 18.0, 17.0, 16.0, 15.0, 14.0, 13.0, 12.0, 11.0, 10.0, 9.0, 8.0, 7.0, 6.0, 5.0, 4.0, 3.0, 2.0, 1.0, 0.6395, 0.6395, 0.6395, 0.5446, 0.5062, 0.5062, 0.5062, 0.5062, 0.5062, 0.5062, 0.5062, 0.5062, 0.5062, 0.5062, 0.5061, 0.5061, 0.506, 0.4217, 0.1796, 0.0765, 0.0765, -0.6389, -0.6389, -0.6389, -0.89, -0.89, -0.89, -0.89, -0.89, -0.89, -1.0637, -1.0637, -1.7351, -1.2782, -1.0637, 0.6978, 0.6978, 0.6978, 0.6978, 0.6978, 0.6978, 0.6978, 0.6978, 0.6978, 0.6978, 0.6978, 0.6978, 0.6978, 0.6978, 0.6978, 0.6978, 0.6978, 0.6978, 0.6143, 0.2289, 0.2289, -0.2559, -0.4868, -0.4868, -0.4868, -0.7379, -0.7379, -0.7379, -0.7379, -0.7379, -0.738, -1.6226, -0.9504, -0.9505, -0.9505, -1.4055, 1.5114, 1.3119, 1.3119, 1.3119, 1.3119, 1.3119, 1.3119, 0.4668, 0.4264, 0.1843, -0.0465, -0.0465, -0.0465, -0.4712, -0.4713, -0.4713, -0.4713, -0.4713, -0.4713, -0.4713, -0.4713, -0.4713, -0.4713, -0.4713, -0.4713, -0.4713, -0.4713, -0.4713, -0.4713, -0.4713, -1.9073, -0.9652, -0.5108, -0.9652, -0.9652, -0.9403, -0.5108, -0.9403, -0.5108, 1.9166, 1.9166, 1.9166, 0.0561, 0.0561, 0.0561, 0.0561, 0.0561, 0.0561, 0.0556, -0.1176, -0.1176, -0.1176, -0.1176, -0.1176, -0.1176, -0.1176, -0.1176, -0.1176, -0.1176, -0.1176, -0.1176, -0.1176, -0.1176, -0.1176, -0.1176, -0.1176, -0.1176, -0.1571, -0.1571, -0.1571, -0.1571, -0.1571, -1.0714, -0.7889, -0.6115, -0.3321, -0.8293, -0.5867, -0.5867, -0.6116, -0.6116]}, \"token.table\": {\"Topic\": [2, 2, 2, 1, 3, 2, 2, 2, 2, 1, 1, 1, 1, 3, 1, 1, 3, 1, 2, 1, 2, 3, 1, 2, 1, 1, 1, 2, 1, 3, 2, 3, 2, 2, 2, 2, 1, 1, 2, 2, 3, 3, 1, 2, 3, 1, 2, 1, 1, 2, 2, 2, 3, 1], \"Freq\": [0.8503746814646894, 0.8503748354752351, 0.8503744367362254, 0.817431584725968, 1.0116897406820735, 0.8503735635561267, 0.8503734795567627, 0.8503735318487109, 0.8503748273241363, 0.8174260415694284, 0.8174263273243987, 1.0378186145655448, 0.8174259646473575, 1.0116897650963212, 1.0378202968115042, 0.8174259808114394, 1.0116893519944226, 0.8174262965641246, 0.8503746045201483, 0.531998223525676, 0.531998223525676, 1.0116897230110835, 0.8174309157973563, 0.8503744999241166, 0.817430651563687, 1.0378184984863432, 0.8174260932205182, 0.8503738096927035, 0.8347348180239968, 0.4173674090119984, 0.8503735055742294, 1.011689488910693, 0.850374829136428, 0.8503735307750983, 0.8503735127188317, 0.850373651684937, 0.8174260295829122, 0.5319975979829801, 0.5319975979829801, 0.4345604568634254, 0.4345604568634254, 0.68619971499, 0.6552365443595511, 0.32761827217977557, 0.32761827217977557, 0.8090333570270629, 0.20225833925676573, 0.8174259215257281, 0.8174259037068754, 0.8503734580725893, 0.850374692661209, 0.850374573137359, 1.0116898593426895, 0.817425895880759], \"Term\": [\"399\", \"Garden\", \"Loft\", \"to\", \"\\u0e01\\u0e23\\u0e38\\u0e07\\u0e40\\u0e17\\u0e1e\", \"\\u0e01\\u0e30\\u0e1b\\u0e34\", \"\\u0e01\\u0e34\\u0e27\", \"\\u0e04\\u0e38\\u0e13\\u0e20\\u0e32\\u0e1e\\u0e14\\u0e35\", \"\\u0e04\\u0e38\\u0e49\\u0e21\", \"\\u0e0b\\u0e32\", \"\\u0e0b\\u0e34\", \"\\u0e0b\\u0e35\", \"\\u0e0b\\u0e39\\u0e0a\\u0e34\", \"\\u0e0d\\u0e35\\u0e48\\u0e1b\\u0e38\\u0e48\\u0e19\", \"\\u0e14\\u0e35\\u0e21\\u0e32\\u0e01\", \"\\u0e16\\u0e49\\u0e27\\u0e21\", \"\\u0e19\\u0e31\\u0e48\\u0e07\", \"\\u0e1a\\u0e38\", \"\\u0e1a\\u0e38\\u0e1f\\u0e40\\u0e1f\\u0e15\\u0e4c\", \"\\u0e1a\\u0e38\\u0e1f\\u0e40\\u0e1f\\u0e48\\u0e15\\u0e4c\", \"\\u0e1a\\u0e38\\u0e1f\\u0e40\\u0e1f\\u0e48\\u0e15\\u0e4c\", \"\\u0e1b\\u0e34\\u0e49\\u0e07\", \"\\u0e1e\\u0e23\\u0e35\\u0e40\\u0e21\\u0e35\\u0e22\\u0e21\", \"\\u0e1e\\u0e23\\u0e35\\u0e40\\u0e21\\u0e35\\u0e48\\u0e22\\u0e21\", \"\\u0e1e\\u0e25\\u0e32\\u0e14\", \"\\u0e1f\\u0e39\\u0e49\\u0e14\", \"\\u0e1f\\u0e40\\u0e1f\\u0e48\\u0e2b\\u0e4c\", \"\\u0e21\\u0e48\\u0e2d\\u0e19\", \"\\u0e22\\u0e48\\u0e32\\u0e07\", \"\\u0e22\\u0e48\\u0e32\\u0e07\", \"\\u0e22\\u0e48\\u0e32\\u0e19\", \"\\u0e23\\u0e2d\", \"\\u0e23\\u0e32\\u0e04\\u0e32\", \"\\u0e23\\u0e32\\u0e21\\u0e04\\u0e33\\u0e41\\u0e2b\\u0e07\", \"\\u0e25\", \"\\u0e27\\u0e32\", \"\\u0e2a\\u0e14\", \"\\u0e2a\\u0e32\\u0e22\", \"\\u0e2a\\u0e32\\u0e22\", \"\\u0e2d\\u0e23\\u0e48\\u0e2d\\u0e22\", \"\\u0e2d\\u0e23\\u0e48\\u0e2d\\u0e22\", \"\\u0e2d\\u0e32\\u0e2b\\u0e32\\u0e23\", \"\\u0e2e\\u0e32\\u0e25\\u0e32\\u0e25\", \"\\u0e2e\\u0e32\\u0e25\\u0e32\\u0e25\", \"\\u0e2e\\u0e32\\u0e25\\u0e32\\u0e25\", \"\\u0e40\\u0e19\\u0e37\\u0e49\\u0e2d\", \"\\u0e40\\u0e19\\u0e37\\u0e49\\u0e2d\", \"\\u0e40\\u0e21\\u0e19\\u0e39\", \"\\u0e40\\u0e25\\u0e37\\u0e2d\\u0e01\", \"\\u0e41\\u0e0b\", \"\\u0e41\\u0e19\\u0e27\", \"\\u0e42\\u0e1b\\u0e23\", \"\\u0e44\\u0e21\\u0e48\\u0e15\\u0e49\\u0e2d\\u0e07\", \"\\u0e44\\u0e2d\\u0e28\\u0e04\\u0e23\\u0e35\\u0e21\"]}, \"R\": 30, \"lambda.step\": 0.01, \"plot.opts\": {\"xlab\": \"PC1\", \"ylab\": \"PC2\"}, \"topic.order\": [1, 3, 2, 4]};\n",
       "\n",
       "function LDAvis_load_lib(url, callback){\n",
       "  var s = document.createElement('script');\n",
       "  s.src = url;\n",
       "  s.async = true;\n",
       "  s.onreadystatechange = s.onload = callback;\n",
       "  s.onerror = function(){console.warn(\"failed to load library \" + url);};\n",
       "  document.getElementsByTagName(\"head\")[0].appendChild(s);\n",
       "}\n",
       "\n",
       "if(typeof(LDAvis) !== \"undefined\"){\n",
       "   // already loaded: just create the visualization\n",
       "   !function(LDAvis){\n",
       "       new LDAvis(\"#\" + \"ldavis_el631231111738075047496678677\", ldavis_el631231111738075047496678677_data);\n",
       "   }(LDAvis);\n",
       "}else if(typeof define === \"function\" && define.amd){\n",
       "   // require.js is available: use it to load d3/LDAvis\n",
       "   require.config({paths: {d3: \"https://d3js.org/d3.v5\"}});\n",
       "   require([\"d3\"], function(d3){\n",
       "      window.d3 = d3;\n",
       "      LDAvis_load_lib(\"https://cdn.jsdelivr.net/gh/bmabey/pyLDAvis@3.4.0/pyLDAvis/js/ldavis.v3.0.0.js\", function(){\n",
       "        new LDAvis(\"#\" + \"ldavis_el631231111738075047496678677\", ldavis_el631231111738075047496678677_data);\n",
       "      });\n",
       "    });\n",
       "}else{\n",
       "    // require.js not available: dynamically load d3 & LDAvis\n",
       "    LDAvis_load_lib(\"https://d3js.org/d3.v5.js\", function(){\n",
       "         LDAvis_load_lib(\"https://cdn.jsdelivr.net/gh/bmabey/pyLDAvis@3.4.0/pyLDAvis/js/ldavis.v3.0.0.js\", function(){\n",
       "                 new LDAvis(\"#\" + \"ldavis_el631231111738075047496678677\", ldavis_el631231111738075047496678677_data);\n",
       "            })\n",
       "         });\n",
       "}\n",
       "</script>"
      ],
      "text/plain": [
       "PreparedData(topic_coordinates=              x         y  topics  cluster       Freq\n",
       "topic                                                \n",
       "0      0.120872 -0.018557       1        1  43.346309\n",
       "2     -0.092579 -0.060243       2        1  34.722205\n",
       "1     -0.033600  0.096443       3        1  15.968236\n",
       "3      0.005307 -0.017643       4        1   5.963250, topic_info=             Term      Freq     Total Category  logprob  loglift\n",
       "15          เนื้อ  4.000000  4.000000  Default  30.0000  30.0000\n",
       "39          อาหาร  1.000000  1.000000  Default  29.0000  29.0000\n",
       "46  พนักงานบริการ  0.000000  0.000000  Default  28.0000  28.0000\n",
       "44         นิดนึง  0.000000  0.000000  Default  27.0000  27.0000\n",
       "45           นุ่ม  0.000000  0.000000  Default  26.0000  26.0000\n",
       "..            ...       ...       ...      ...      ...      ...\n",
       "14           ย่าง  0.062344  2.395971   Topic4  -4.1896  -0.8293\n",
       "26            สาย  0.062344  1.879708   Topic4  -4.1896  -0.5867\n",
       "20       บุฟเฟ่ต์  0.062344  1.879706   Topic4  -4.1896  -0.5867\n",
       "8              ซี  0.062344  1.927119   Topic4  -4.1896  -0.6116\n",
       "12           ฟู้ด  0.062344  1.927119   Topic4  -4.1896  -0.6116\n",
       "\n",
       "[182 rows x 6 columns], token_table=      Topic      Freq       Term\n",
       "term                            \n",
       "28        2  0.850375        399\n",
       "0         2  0.850375     Garden\n",
       "1         2  0.850374       Loft\n",
       "47        1  0.817432         to\n",
       "41        3  1.011690    กรุงเทพ\n",
       "17        2  0.850374       กะปิ\n",
       "18        2  0.850373        กิว\n",
       "19        2  0.850374   คุณภาพดี\n",
       "29        2  0.850375       คุ้ม\n",
       "31        1  0.817426         ซา\n",
       "32        1  0.817426         ซิ\n",
       "8         1  1.037819         ซี\n",
       "9         1  0.817426       ซูชิ\n",
       "42        3  1.011690    ญี่ปุ่น\n",
       "33        1  1.037820      ดีมาก\n",
       "10        1  0.817426       ถ้วม\n",
       "37        3  1.011689       นั่ง\n",
       "11        1  0.817426         บุ\n",
       "2         2  0.850375    บุฟเฟต์\n",
       "20        1  0.531998   บุฟเฟ่ต์\n",
       "20        2  0.531998   บุฟเฟ่ต์\n",
       "43        3  1.011690       ปิ้ง\n",
       "48        1  0.817431   พรีเมียม\n",
       "3         2  0.850374  พรีเมี่ยม\n",
       "49        1  0.817431       พลาด\n",
       "12        1  1.037818       ฟู้ด\n",
       "13        1  0.817426     ฟเฟ่ห์\n",
       "21        2  0.850374       ม่อน\n",
       "14        1  0.834735       ย่าง\n",
       "14        3  0.417367       ย่าง\n",
       "22        2  0.850374       ย่าน\n",
       "38        3  1.011689         รอ\n",
       "4         2  0.850375       ราคา\n",
       "23        2  0.850374   รามคำแหง\n",
       "24        2  0.850374          ล\n",
       "25        2  0.850374         วา\n",
       "34        1  0.817426         สด\n",
       "26        1  0.531998        สาย\n",
       "26        2  0.531998        สาย\n",
       "5         2  0.434560      อร่อย\n",
       "5         3  0.434560      อร่อย\n",
       "39        3  0.686200      อาหาร\n",
       "6         1  0.655237      ฮาลาล\n",
       "6         2  0.327618      ฮาลาล\n",
       "6         3  0.327618      ฮาลาล\n",
       "15        1  0.809033      เนื้อ\n",
       "15        2  0.202258      เนื้อ\n",
       "35        1  0.817426       เมนู\n",
       "36        1  0.817426      เลือก\n",
       "27        2  0.850373         แซ\n",
       "7         2  0.850375        แนว\n",
       "30        2  0.850375        โปร\n",
       "40        3  1.011690    ไม่ต้อง\n",
       "16        1  0.817426    ไอศครีม, R=30, lambda_step=0.01, plot_opts={'xlab': 'PC1', 'ylab': 'PC2'}, topic_order=[1, 3, 2, 4])"
      ]
     },
     "execution_count": 13,
     "metadata": {},
     "output_type": "execute_result"
    }
   ],
   "source": [
    "pyLDAvis.gensim.prepare(model, gensim_corpus, dictionary)"
   ]
  },
  {
   "cell_type": "code",
   "execution_count": 14,
   "id": "34830b2f",
   "metadata": {},
   "outputs": [
    {
     "data": {
      "text/plain": [
       "[('อาหาร', 0.09574447),\n",
       " ('ญี่ปุ่น', 0.05319135),\n",
       " ('ปิ้ง', 0.053191345),\n",
       " ('กรุงเทพ', 0.053191297),\n",
       " ('รอ', 0.053191226),\n",
       " ('ไม่ต้อง', 0.053191196),\n",
       " ('นั่ง', 0.053191137),\n",
       " ('อร่อย', 0.053190943),\n",
       " ('ย่าง', 0.053190406),\n",
       " ('ฮาลาล', 0.053190306)]"
      ]
     },
     "execution_count": 14,
     "metadata": {},
     "output_type": "execute_result"
    }
   ],
   "source": [
    "model.show_topic(1)"
   ]
  },
  {
   "cell_type": "code",
   "execution_count": 15,
   "id": "36c6aa8b",
   "metadata": {},
   "outputs": [],
   "source": [
    "df['topics'] = df['Review_tokenized'].apply(lambda x: model.get_document_topics(dictionary.doc2bow(x.split(',')))[0][0])\n",
    "df['score'] = df['Review_tokenized'].apply(lambda x: model.get_document_topics(dictionary.doc2bow(x.split(',')))[0][1])"
   ]
  },
  {
   "cell_type": "code",
   "execution_count": 20,
   "id": "32503f88",
   "metadata": {
    "scrolled": true
   },
   "outputs": [
    {
     "data": {
      "text/html": [
       "<div>\n",
       "<style scoped>\n",
       "    .dataframe tbody tr th:only-of-type {\n",
       "        vertical-align: middle;\n",
       "    }\n",
       "\n",
       "    .dataframe tbody tr th {\n",
       "        vertical-align: top;\n",
       "    }\n",
       "\n",
       "    .dataframe thead th {\n",
       "        text-align: right;\n",
       "    }\n",
       "</style>\n",
       "<table border=\"1\" class=\"dataframe\">\n",
       "  <thead>\n",
       "    <tr style=\"text-align: right;\">\n",
       "      <th></th>\n",
       "      <th>ReviewID</th>\n",
       "      <th>Review</th>\n",
       "      <th>Review_tokenized</th>\n",
       "      <th>topics</th>\n",
       "      <th>score</th>\n",
       "    </tr>\n",
       "  </thead>\n",
       "  <tbody>\n",
       "    <tr>\n",
       "      <th>0</th>\n",
       "      <td>1</td>\n",
       "      <td>ร้าน \"Got To Grill\" พรีเมี่ยมฮาลาลบุฟเฟต์ที่แร...</td>\n",
       "      <td>พรีเมี่ยม,ฮาลาล,บุฟเฟต์,แนว,Loft,Garden,อร่อย,...</td>\n",
       "      <td>0</td>\n",
       "      <td>0.011188</td>\n",
       "    </tr>\n",
       "    <tr>\n",
       "      <th>1</th>\n",
       "      <td>2</td>\n",
       "      <td>บุฟเฟ่ห์เนื้อย่าง ซีฟู้ด ซูชิ ไอศครีมครบถ้วมแล...</td>\n",
       "      <td>บุ,ฟเฟ่ห์,เนื้อ,ย่าง,ซี,ฟู้ด,ซูชิ,ไอศครีม,ถ้วม...</td>\n",
       "      <td>0</td>\n",
       "      <td>0.984131</td>\n",
       "    </tr>\n",
       "    <tr>\n",
       "      <th>2</th>\n",
       "      <td>3</td>\n",
       "      <td>บุฟเฟ่ต์สายเนื้อ คุณภาพดี วากิวอร่อยมากก แซลม่...</td>\n",
       "      <td>บุฟเฟ่ต์,สาย,เนื้อ,คุณภาพดี,วา,กิว,อร่อย,แซ,ล,...</td>\n",
       "      <td>2</td>\n",
       "      <td>0.986224</td>\n",
       "    </tr>\n",
       "    <tr>\n",
       "      <th>3</th>\n",
       "      <td>4</td>\n",
       "      <td>โปร 399 ถือว่าคุ้มมาก</td>\n",
       "      <td>โปร,399,คุ้ม</td>\n",
       "      <td>0</td>\n",
       "      <td>0.028371</td>\n",
       "    </tr>\n",
       "    <tr>\n",
       "      <th>4</th>\n",
       "      <td>5</td>\n",
       "      <td>เนื้อดีมาก มีเมนูให้เลือกเยอะมาก ซีฟู้ด ซาซิมิ สด</td>\n",
       "      <td>เนื้อ,ดีมาก,เมนู,เลือก,ซี,ฟู้ด,ซา,ซิ,สด</td>\n",
       "      <td>0</td>\n",
       "      <td>0.982416</td>\n",
       "    </tr>\n",
       "    <tr>\n",
       "      <th>5</th>\n",
       "      <td>6</td>\n",
       "      <td>ร้านน่านั่ง อาหารอร่อย ไม่ต้องรอนาน</td>\n",
       "      <td>นั่ง,อาหาร,อร่อย,ไม่ต้อง,รอ</td>\n",
       "      <td>0</td>\n",
       "      <td>0.017574</td>\n",
       "    </tr>\n",
       "    <tr>\n",
       "      <th>6</th>\n",
       "      <td>7</td>\n",
       "      <td>อาหารญี่ปุ่น ปิ้งย่างฮาลาล ที่สุดใน กรุงเทพ</td>\n",
       "      <td>อาหาร,ญี่ปุ่น,ปิ้ง,ย่าง,ฮาลาล,กรุงเทพ</td>\n",
       "      <td>0</td>\n",
       "      <td>0.014765</td>\n",
       "    </tr>\n",
       "    <tr>\n",
       "      <th>7</th>\n",
       "      <td>8</td>\n",
       "      <td>เนื้อนุ่ม พนักงานบริการช้านิดนึง แต่ก็โอเคค่ะ</td>\n",
       "      <td>เนื้อ,นุ่ม,พนักงานบริการ,นิดนึง</td>\n",
       "      <td>0</td>\n",
       "      <td>0.021706</td>\n",
       "    </tr>\n",
       "    <tr>\n",
       "      <th>8</th>\n",
       "      <td>9</td>\n",
       "      <td>บุฟเฟ่ต์ฮาลาล เนื้อย่างพรีเมียม สายเนื้อต้องไม...</td>\n",
       "      <td>บุฟเฟ่ต์,ฮาลาล,เนื้อ,ย่าง,พรีเมียม,สาย,เนื้อ,พ...</td>\n",
       "      <td>0</td>\n",
       "      <td>0.982416</td>\n",
       "    </tr>\n",
       "    <tr>\n",
       "      <th>9</th>\n",
       "      <td>10</td>\n",
       "      <td>เนื้อคือดีมาก</td>\n",
       "      <td>เนื้อ,ดีมาก</td>\n",
       "      <td>0</td>\n",
       "      <td>0.927835</td>\n",
       "    </tr>\n",
       "  </tbody>\n",
       "</table>\n",
       "</div>"
      ],
      "text/plain": [
       "   ReviewID                                             Review  \\\n",
       "0         1  ร้าน \"Got To Grill\" พรีเมี่ยมฮาลาลบุฟเฟต์ที่แร...   \n",
       "1         2  บุฟเฟ่ห์เนื้อย่าง ซีฟู้ด ซูชิ ไอศครีมครบถ้วมแล...   \n",
       "2         3  บุฟเฟ่ต์สายเนื้อ คุณภาพดี วากิวอร่อยมากก แซลม่...   \n",
       "3         4                              โปร 399 ถือว่าคุ้มมาก   \n",
       "4         5  เนื้อดีมาก มีเมนูให้เลือกเยอะมาก ซีฟู้ด ซาซิมิ สด   \n",
       "5         6                ร้านน่านั่ง อาหารอร่อย ไม่ต้องรอนาน   \n",
       "6         7        อาหารญี่ปุ่น ปิ้งย่างฮาลาล ที่สุดใน กรุงเทพ   \n",
       "7         8      เนื้อนุ่ม พนักงานบริการช้านิดนึง แต่ก็โอเคค่ะ   \n",
       "8         9  บุฟเฟ่ต์ฮาลาล เนื้อย่างพรีเมียม สายเนื้อต้องไม...   \n",
       "9        10                                      เนื้อคือดีมาก   \n",
       "\n",
       "                                    Review_tokenized  topics     score  \n",
       "0  พรีเมี่ยม,ฮาลาล,บุฟเฟต์,แนว,Loft,Garden,อร่อย,...       0  0.011188  \n",
       "1  บุ,ฟเฟ่ห์,เนื้อ,ย่าง,ซี,ฟู้ด,ซูชิ,ไอศครีม,ถ้วม...       0  0.984131  \n",
       "2  บุฟเฟ่ต์,สาย,เนื้อ,คุณภาพดี,วา,กิว,อร่อย,แซ,ล,...       2  0.986224  \n",
       "3                                       โปร,399,คุ้ม       0  0.028371  \n",
       "4            เนื้อ,ดีมาก,เมนู,เลือก,ซี,ฟู้ด,ซา,ซิ,สด       0  0.982416  \n",
       "5                        นั่ง,อาหาร,อร่อย,ไม่ต้อง,รอ       0  0.017574  \n",
       "6              อาหาร,ญี่ปุ่น,ปิ้ง,ย่าง,ฮาลาล,กรุงเทพ       0  0.014765  \n",
       "7                    เนื้อ,นุ่ม,พนักงานบริการ,นิดนึง       0  0.021706  \n",
       "8  บุฟเฟ่ต์,ฮาลาล,เนื้อ,ย่าง,พรีเมียม,สาย,เนื้อ,พ...       0  0.982416  \n",
       "9                                        เนื้อ,ดีมาก       0  0.927835  "
      ]
     },
     "execution_count": 20,
     "metadata": {},
     "output_type": "execute_result"
    }
   ],
   "source": [
    "df.tail(10)"
   ]
  }
 ],
 "metadata": {
  "kernelspec": {
   "display_name": "Python 3 (ipykernel)",
   "language": "python",
   "name": "python3"
  },
  "language_info": {
   "codemirror_mode": {
    "name": "ipython",
    "version": 3
   },
   "file_extension": ".py",
   "mimetype": "text/x-python",
   "name": "python",
   "nbconvert_exporter": "python",
   "pygments_lexer": "ipython3",
   "version": "3.10.9"
  }
 },
 "nbformat": 4,
 "nbformat_minor": 5
}
